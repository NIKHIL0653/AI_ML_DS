{
 "cells": [
  {
   "cell_type": "code",
   "id": "initial_id",
   "metadata": {
    "collapsed": true,
    "ExecuteTime": {
     "end_time": "2024-09-05T16:24:08.608844Z",
     "start_time": "2024-09-05T16:24:08.601074Z"
    }
   },
   "source": [
    "import pandas as pd\n",
    "import matplotlib.pyplot as plt\n",
    "import seaborn as sns\n",
    "import geopandas as gpd\n",
    "import numpy as np\n",
    "from scipy import stats"
   ],
   "execution_count": 2,
   "outputs": []
  },
  {
   "metadata": {
    "ExecuteTime": {
     "end_time": "2024-09-05T16:24:10.141210Z",
     "start_time": "2024-09-05T16:24:10.127707Z"
    }
   },
   "cell_type": "code",
   "source": [
    "# Load the data\n",
    "df = pd.read_csv('NCRB_Table_1C.2 (1).csv')\n"
   ],
   "id": "7b8280081441e71b",
   "execution_count": 3,
   "outputs": []
  },
  {
   "metadata": {
    "ExecuteTime": {
     "end_time": "2024-09-05T16:28:51.566424Z",
     "start_time": "2024-09-05T16:28:51.549135Z"
    }
   },
   "cell_type": "code",
   "source": [
    "# Data Cleaning and Preprocessing\n",
    "df = df.drop(columns=['Sl. No.', 'Category'])\n",
    "df = df.rename(columns={'State/UT': 'State'})\n",
    "df = df[df['State'] != 'Total State (S)']\n",
    "df = df[df['State'] != 'Total UT (S)']\n",
    "df = df[df['State'] != 'Total All India']"
   ],
   "id": "fda714ee56436320",
   "execution_count": 4,
   "outputs": []
  },
  {
   "metadata": {
    "ExecuteTime": {
     "end_time": "2024-09-05T16:29:04.485174Z",
     "start_time": "2024-09-05T16:29:04.467293Z"
    }
   },
   "cell_type": "code",
   "source": [
    "# Convert numeric columns to float\n",
    "numeric_columns = df.columns[1:]\n",
    "df[numeric_columns] = df[numeric_columns].astype(float)"
   ],
   "id": "cba32293beb2125e",
   "execution_count": 5,
   "outputs": []
  },
  {
   "metadata": {
    "ExecuteTime": {
     "end_time": "2024-09-05T16:29:14.236227Z",
     "start_time": "2024-09-05T16:29:14.221939Z"
    }
   },
   "cell_type": "code",
   "source": [
    "# Calculate crime rate per 100,000 population (assuming population data is available)\n",
    "# For this example, we'll use a hypothetical population for each state\n",
    "# In a real scenario, you would need to import actual population data\n",
    "df['Population'] = np.random.randint(1000000, 100000000, size=len(df))\n",
    "df['Crime Rate'] = df['Total Violent Crimes (Cols.3 to 17)'] / df['Population'] * 100000"
   ],
   "id": "f85f25c82257a58d",
   "execution_count": 6,
   "outputs": []
  },
  {
   "metadata": {
    "ExecuteTime": {
     "end_time": "2024-09-05T16:29:33.575808Z",
     "start_time": "2024-09-05T16:29:33.090502Z"
    }
   },
   "cell_type": "code",
   "source": [
    "# 1. Crime Rate by State/Region\n",
    "def analyze_crime_rates():\n",
    "    print(\"1. Crime Rate Analysis\")\n",
    "    print(\"\\nTop 5 States with Highest Crime Rates:\")\n",
    "    print(df.sort_values('Crime Rate', ascending=False)[['State', 'Crime Rate']].head())\n",
    "    \n",
    "    print(\"\\nTop 5 States with Lowest Crime Rates:\")\n",
    "    print(df.sort_values('Crime Rate')[['State', 'Crime Rate']].head())\n",
    "    \n",
    "    # Visualization\n",
    "    plt.figure(figsize=(12, 6))\n",
    "    sns.barplot(x='Crime Rate', y='State', data=df.sort_values('Crime Rate', ascending=False).head(10))\n",
    "    plt.title('Top 10 States by Crime Rate')\n",
    "    plt.tight_layout()\n",
    "    plt.show()\n",
    "\n",
    "analyze_crime_rates()"
   ],
   "id": "7039345bc1994574",
   "execution_count": 7,
   "outputs": []
  },
  {
   "metadata": {
    "ExecuteTime": {
     "end_time": "2024-09-05T16:30:05.805511Z",
     "start_time": "2024-09-05T16:30:05.316288Z"
    }
   },
   "cell_type": "code",
   "source": [
    "# 2. Violent Crime Trend Analysis\n",
    "def analyze_violent_crime_trends():\n",
    "    print(\"\\n2. Violent Crime Trend Analysis\")\n",
    "    \n",
    "    crime_types = df.columns[1:-2]  # Exclude 'State', 'Population', and 'Crime Rate'\n",
    "    total_crimes = df[crime_types].sum().sort_values(ascending=False)\n",
    "    \n",
    "    print(\"\\nMost Common Violent Crimes in India:\")\n",
    "    print(total_crimes.head())\n",
    "    \n",
    "    # Visualization\n",
    "    plt.figure(figsize=(12, 6))\n",
    "    sns.barplot(x=total_crimes.head(10).values, y=total_crimes.head(10).index)\n",
    "    plt.title('Top 10 Most Common Violent Crimes in India')\n",
    "    plt.xlabel('Number of Cases')\n",
    "    plt.tight_layout()\n",
    "    plt.show()\n",
    "    \n",
    "    # Analysis of specific crimes across regions\n",
    "    specific_crimes = ['Rape (Sec.376 IPC)', 'Dowry Deaths (Sec.304B IPC)', 'Murder (Sec.302 IPC)']\n",
    "    for crime in specific_crimes:\n",
    "        print(f\"\\nTop 5 States with Highest {crime}:\")\n",
    "        print(df.sort_values(crime, ascending=False)[['State', crime]].head())\n",
    "\n",
    "analyze_violent_crime_trends()"
   ],
   "id": "6c7325d9a6c8c504",
   "execution_count": 8,
   "outputs": []
  },
  {
   "metadata": {
    "ExecuteTime": {
     "end_time": "2024-09-05T16:30:26.746879Z",
     "start_time": "2024-09-05T16:30:25.663997Z"
    }
   },
   "cell_type": "code",
   "source": [
    "# 3. Correlation Analysis of Crimes\n",
    "def correlation_analysis():\n",
    "    print(\"\\n3. Correlation Analysis of Crimes\")\n",
    "    \n",
    "    corr_matrix = df[df.columns[1:-2]].corr()\n",
    "    \n",
    "    # Visualization\n",
    "    plt.figure(figsize=(12, 10))\n",
    "    sns.heatmap(corr_matrix, annot=False, cmap='coolwarm')\n",
    "    plt.title('Correlation Heatmap of Violent Crimes')\n",
    "    plt.tight_layout()\n",
    "    plt.show()\n",
    "    \n",
    "    print(\"\\nHighest Correlations:\")\n",
    "    corr_unstack = corr_matrix.unstack()\n",
    "    print(corr_unstack[corr_unstack < 1].sort_values(ascending=False).head(10))\n",
    "    \n",
    "    # Analysis of attempts vs. successful crimes\n",
    "    attempt_crimes = ['Attempt to Commit Murder (Sec.307 IPC)', 'Attempt to Commit Rape (Sec.376 r/w 511 IPC)']\n",
    "    actual_crimes = ['Murder (Sec.302 IPC)', 'Rape (Sec.376 IPC)']\n",
    "    \n",
    "    for attempt, actual in zip(attempt_crimes, actual_crimes):\n",
    "        correlation = df[attempt].corr(df[actual])\n",
    "        print(f\"\\nCorrelation between {attempt} and {actual}: {correlation:.2f}\")\n",
    "\n",
    "correlation_analysis()"
   ],
   "id": "10e773c7e1613b48",
   "execution_count": 9,
   "outputs": []
  },
  {
   "metadata": {
    "ExecuteTime": {
     "end_time": "2024-09-05T16:30:50.780722Z",
     "start_time": "2024-09-05T16:30:49.454827Z"
    }
   },
   "cell_type": "code",
   "source": [
    "# 4. Impact of Gender-Related Crimes\n",
    "def analyze_gender_related_crimes():\n",
    "    print(\"\\n4. Impact of Gender-Related Crimes\")\n",
    "    \n",
    "    gender_crimes = ['Rape (Sec.376 IPC)', 'Dowry Deaths (Sec.304B IPC)', 'Infanticide (Sec.315 IPC)']\n",
    "    \n",
    "    for crime in gender_crimes:\n",
    "        print(f\"\\nTop 5 States with Highest {crime}:\")\n",
    "        print(df.sort_values(crime, ascending=False)[['State', crime]].head())\n",
    "    \n",
    "    # Correlation with overall crime rate\n",
    "    for crime in gender_crimes:\n",
    "        correlation = df[crime].corr(df['Crime Rate'])\n",
    "        print(f\"\\nCorrelation between {crime} and overall Crime Rate: {correlation:.2f}\")\n",
    "    \n",
    "    # Visualization\n",
    "    plt.figure(figsize=(12, 6))\n",
    "    df_melted = df.melt(id_vars='State', value_vars=gender_crimes, var_name='Crime Type', value_name='Count')\n",
    "    sns.barplot(x='State', y='Count', hue='Crime Type', data=df_melted)\n",
    "    plt.xticks(rotation=90)\n",
    "    plt.title('Gender-Related Crimes by State')\n",
    "    plt.tight_layout()\n",
    "    plt.show()\n",
    "\n",
    "analyze_gender_related_crimes()"
   ],
   "id": "3806f0299680e2de",
   "execution_count": 10,
   "outputs": []
  },
  {
   "metadata": {
    "ExecuteTime": {
     "end_time": "2024-09-05T16:31:09.669966Z",
     "start_time": "2024-09-05T16:31:08.752391Z"
    }
   },
   "cell_type": "code",
   "source": [
    "# 5. Crime Prevention Prioritization\n",
    "def crime_prevention_prioritization():\n",
    "    print(\"\\n5. Crime Prevention Prioritization\")\n",
    "    \n",
    "    crime_types = df.columns[1:-2]\n",
    "    \n",
    "    for crime in crime_types:\n",
    "        print(f\"\\nTop 3 States to Prioritize for {crime}:\")\n",
    "        print(df.sort_values(crime, ascending=False)[['State', crime]].head(3))\n",
    "    \n",
    "    # Visualization of crime distribution\n",
    "    plt.figure(figsize=(12, 8))\n",
    "    df_melted = df.melt(id_vars='State', value_vars=crime_types, var_name='Crime Type', value_name='Count')\n",
    "    sns.boxplot(x='Crime Type', y='Count', data=df_melted)\n",
    "    plt.xticks(rotation=90)\n",
    "    plt.title('Distribution of Crimes Across States')\n",
    "    plt.tight_layout()\n",
    "    plt.show()\n",
    "\n",
    "crime_prevention_prioritization()"
   ],
   "id": "67ca081db2ef9196",
   "execution_count": 11,
   "outputs": []
  },
  {
   "metadata": {
    "ExecuteTime": {
     "end_time": "2024-09-05T16:48:50.277627Z",
     "start_time": "2024-09-05T16:48:49.631070Z"
    }
   },
   "cell_type": "code",
   "source": [
    "# 6. Crime Severity and Category Analysis\n",
    "def crime_severity_analysis():\n",
    "    print(\"\\n6. Crime Severity and Category Analysis\")\n",
    "    \n",
    "    crime_types = df.columns[1:-2]\n",
    "    total_crimes = df[crime_types].sum()\n",
    "    crime_proportions = total_crimes / total_crimes.sum() * 100\n",
    "    \n",
    "    print(\"\\nProportion of Each Crime Type in Total Violent Crimes:\")\n",
    "    print(crime_proportions.sort_values(ascending=False))\n",
    "    \n",
    "    # Visualization\n",
    "    plt.figure(figsize=(12, 8))\n",
    "    crime_proportions.sort_values(ascending=False).plot(kind='bar')\n",
    "    plt.title('Proportion of Each Crime Type in Total Violent Crimes')\n",
    "    plt.ylabel('Percentage')\n",
    "    plt.xticks(rotation=90)\n",
    "    plt.tight_layout()\n",
    "    plt.show()\n",
    "    \n",
    "    # Regional analysis\n",
    "    print(\"\\nTop Contributing Crime Type for Each State:\")\n",
    "    for _, row in df.iterrows():\n",
    "        state = row['State']\n",
    "        top_crime = row[crime_types].idxmax()\n",
    "        print(f\"{state}: {top_crime}\")\n",
    "\n",
    "crime_severity_analysis()"
   ],
   "id": "28f8fbcef660a08e",
   "execution_count": 18,
   "outputs": []
  },
  {
   "metadata": {
    "ExecuteTime": {
     "end_time": "2024-09-05T16:31:45.975942Z",
     "start_time": "2024-09-05T16:31:45.057687Z"
    }
   },
   "cell_type": "code",
   "source": [
    "# 7. Cultural and Economic Influences on Crime (Hypothetical Analysis)\n",
    "def cultural_economic_analysis():\n",
    "    print(\"\\n7. Cultural and Economic Influences on Crime (Hypothetical Analysis)\")\n",
    "    \n",
    "    # This analysis would require additional socio-economic data\n",
    "    # For demonstration, we'll use hypothetical data\n",
    "    \n",
    "    df['Economic Index'] = np.random.rand(len(df))  # Hypothetical economic index\n",
    "    df['Cultural Index'] = np.random.rand(len(df))  # Hypothetical cultural index\n",
    "    \n",
    "    economic_corr = df['Economic Index'].corr(df['Crime Rate'])\n",
    "    cultural_corr = df['Cultural Index'].corr(df['Crime Rate'])\n",
    "    \n",
    "    print(f\"\\nHypothetical correlation between Economic Index and Crime Rate: {economic_corr:.2f}\")\n",
    "    print(f\"Hypothetical correlation between Cultural Index and Crime Rate: {cultural_corr:.2f}\")\n",
    "    \n",
    "    # Visualization\n",
    "    plt.figure(figsize=(12, 5))\n",
    "    plt.subplot(1, 2, 1)\n",
    "    plt.scatter(df['Economic Index'], df['Crime Rate'])\n",
    "    plt.title('Crime Rate vs Economic Index')\n",
    "    plt.xlabel('Economic Index')\n",
    "    plt.ylabel('Crime Rate')\n",
    "    \n",
    "    plt.subplot(1, 2, 2)\n",
    "    plt.scatter(df['Cultural Index'], df['Crime Rate'])\n",
    "    plt.title('Crime Rate vs Cultural Index')\n",
    "    plt.xlabel('Cultural Index')\n",
    "    plt.ylabel('Crime Rate')\n",
    "    \n",
    "    plt.tight_layout()\n",
    "    plt.show()\n",
    "\n",
    "cultural_economic_analysis()"
   ],
   "id": "3d5bd8fa3a205655",
   "execution_count": 13,
   "outputs": []
  },
  {
   "metadata": {
    "ExecuteTime": {
     "end_time": "2024-09-05T16:31:59.625765Z",
     "start_time": "2024-09-05T16:31:58.204518Z"
    }
   },
   "cell_type": "code",
   "source": [
    "# 8. State-Specific Crime Control Recommendations\n",
    "def crime_control_recommendations():\n",
    "    print(\"\\n8. State-Specific Crime Control Recommendations\")\n",
    "    \n",
    "    # Example: Focus on women's safety in states with high rape and dowry death rates\n",
    "    df['Women Safety Index'] = df['Rape (Sec.376 IPC)'] + df['Dowry Deaths (Sec.304B IPC)']\n",
    "    \n",
    "    print(\"\\nStates Needing Focus on Women's Safety:\")\n",
    "    print(df.sort_values('Women Safety Index', ascending=False)[['State', 'Women Safety Index']].head())\n",
    "    \n",
    "    # Other recommendations based on crime rates\n",
    "    high_crime_states = df.sort_values('Crime Rate', ascending=False).head(5)\n",
    "    \n",
    "    for _, state in high_crime_states.iterrows():\n",
    "        print(f\"\\nRecommendations for {state['State']}:\")\n",
    "        top_crimes = state.sort_values(ascending=False).head(3)\n",
    "        for crime, value in top_crimes.items():\n",
    "            if crime not in ['State', 'Population', 'Crime Rate']:\n",
    "                print(f\"- Focus on reducing {crime}: {value:.0f} cases\")\n",
    "\n",
    "crime_control_recommendations()"
   ],
   "id": "a532a47252afd976",
   "execution_count": 14,
   "outputs": []
  },
  {
   "metadata": {
    "ExecuteTime": {
     "end_time": "2024-09-05T17:13:56.357674Z",
     "start_time": "2024-09-05T17:13:56.292615Z"
    }
   },
   "cell_type": "code",
   "source": [
    "import geopandas as gpd\n",
    "import matplotlib.pyplot as plt\n",
    "\n",
    "# Load India shapefile\n",
    "india_map = gpd.read_file('Indian_states.shp')\n",
    "\n",
    "# Assuming you have a DataFrame 'df' with 'State' and 'Crime Rate' columns\n",
    "# Replace 'df' and 'State', 'Crime Rate' with your actual DataFrame and column names\n",
    "df = pd.DataFrame({'State': ['Andhra Pradesh', 'Arunachal Pradesh', 'Assam', 'Bihar', 'Chhattisgarh', 'Goa', 'Gujarat', 'Haryana', 'Himachal Pradesh', 'Jharkhand', 'Karnataka', 'Kerala', 'Madhya Pradesh', 'Maharashtra', 'Manipur', 'Meghalaya', 'Mizoram', 'Nagaland', 'Odisha', 'Punjab', 'Rajasthan', 'Sikkim', 'Tamil Nadu', 'Telangana', 'Tripura', 'Uttar Pradesh', 'Uttarakhand', 'West Bengal'],\n",
    "                   'Crime Rate': [12345, 6789, 54321, 23456, 78901, 34567, 89012, 45678, 90123, 56789, 123456, 789012, 345678, 901234, 567890, 1234567, 7890123, 4567890, 2345678, 8901234, 5678901, 12345678, 9012345, 6789012, 3456789, 23456789, 123456789, 987654321]})\n",
    "\n",
    "# Merge crime data with map data\n",
    "merged_data = india_map.merge(df, how='left', left_on='NAME_1', right_on='State')\n",
    "\n",
    "# Create the map\n",
    "fig, ax = plt.subplots(1, 1, figsize=(15, 10))\n",
    "merged_data = india_map.merge(df, how='left', left_on='NAME_1', right_on='NAME_1')\n",
    "\n",
    "# Customize the map\n",
    "ax.axis('off')\n",
    "ax.set_title('Crime Rate Heatmap of India', fontdict={'fontsize': '25', 'fontweight': '3'})\n",
    "\n",
    "# Add annotations\n",
    "for idx, row in merged_data.iterrows():\n",
    "    ax.annotate(text=row['State'], xy=(row.geometry.centroid.x, row.geometry.centroid.y),\n",
    "                xytext=(3, 3), textcoords=\"offset points\", fontsize=8)\n",
    "\n",
    "plt.tight_layout()\n",
    "plt.show()"
   ],
   "id": "e608c4e804ab4e32",
   "execution_count": 27,
   "outputs": []
  },
  {
   "metadata": {},
   "cell_type": "code",
   "execution_count": null,
   "source": "",
   "id": "28191d79c30745a1",
   "outputs": []
  }
 ],
 "metadata": {
  "kernelspec": {
   "display_name": "Python 3",
   "language": "python",
   "name": "python3"
  },
  "language_info": {
   "codemirror_mode": {
    "name": "ipython",
    "version": 2
   },
   "file_extension": ".py",
   "mimetype": "text/x-python",
   "name": "python",
   "nbconvert_exporter": "python",
   "pygments_lexer": "ipython2",
   "version": "2.7.6"
  }
 },
 "nbformat": 4,
 "nbformat_minor": 5
}
