{
 "cells": [
  {
   "cell_type": "code",
   "execution_count": 1,
   "metadata": {
    "id": "ur8xi4C7S06n",
    "tags": []
   },
   "outputs": [],
   "source": [
    "# Copyright 2024 Google LLC\n",
    "#\n",
    "# Licensed under the Apache License, Version 2.0 (the \"License\");\n",
    "# you may not use this file except in compliance with the License.\n",
    "# You may obtain a copy of the License at\n",
    "#\n",
    "#     https://www.apache.org/licenses/LICENSE-2.0\n",
    "#\n",
    "# Unless required by applicable law or agreed to in writing, software\n",
    "# distributed under the License is distributed on an \"AS IS\" BASIS,\n",
    "# WITHOUT WARRANTIES OR CONDITIONS OF ANY KIND, either express or implied.\n",
    "# See the License for the specific language governing permissions and\n",
    "# limitations under the License."
   ]
  },
  {
   "cell_type": "markdown",
   "metadata": {
    "id": "JAPoU8Sm5E6e"
   },
   "source": [
    "# Prompt Design - Best Practices\n",
    "\n",
    "<table align=\"left\">\n",
    "  <td style=\"text-align: center\">\n",
    "    <a href=\"https://colab.research.google.com/github/GoogleCloudPlatform/generative-ai/blob/main/gemini/prompts/intro_prompt_design.ipynb\">\n",
    "      <img src=\"https://cloud.google.com/ml-engine/images/colab-logo-32px.png\" alt=\"Google Colaboratory logo\"><br> Open in Colab\n",
    "    </a>\n",
    "  </td>\n",
    "  <td style=\"text-align: center\">\n",
    "    <a href=\"https://console.cloud.google.com/vertex-ai/colab/import/https:%2F%2Fraw.githubusercontent.com%2FGoogleCloudPlatform%2Fgenerative-ai%2Fmain%2Fgemini%2Fprompts%2Fintro_prompt_design.ipynb\">\n",
    "      <img width=\"32px\" src=\"https://lh3.googleusercontent.com/JmcxdQi-qOpctIvWKgPtrzZdJJK-J3sWE1RsfjZNwshCFgE_9fULcNpuXYTilIR2hjwN\" alt=\"Google Cloud Colab Enterprise logo\"><br> Open in Colab Enterprise\n",
    "    </a>\n",
    "  </td>    \n",
    "  <td style=\"text-align: center\">\n",
    "    <a href=\"https://console.cloud.google.com/vertex-ai/workbench/deploy-notebook?download_url=https://raw.githubusercontent.com/GoogleCloudPlatform/generative-ai/main/gemini/prompts/intro_prompt_design.ipynb\">\n",
    "      <img src=\"https://lh3.googleusercontent.com/UiNooY4LUgW_oTvpsNhPpQzsstV5W8F7rYgxgGBD85cWJoLmrOzhVs_ksK_vgx40SHs7jCqkTkCk=e14-rj-sc0xffffff-h130-w32\" alt=\"Vertex AI logo\"><br> Open in Workbench\n",
    "    </a>\n",
    "  </td>\n",
    "  <td style=\"text-align: center\">\n",
    "    <a href=\"https://github.com/GoogleCloudPlatform/generative-ai/blob/main/gemini/prompts/intro_prompt_design.ipynb\">\n",
    "      <img src=\"https://cloud.google.com/ml-engine/images/github-logo-32px.png\" alt=\"GitHub logo\"><br> View on GitHub\n",
    "    </a>\n",
    "  </td>\n",
    "  <td style=\"text-align: center\">\n",
    "    <a href=\"https://goo.gle/4fWHlze\">\n",
    "      <img width=\"32px\" src=\"https://cdn.qwiklabs.com/assets/gcp_cloud-e3a77215f0b8bfa9b3f611c0d2208c7e8708ed31.svg\" alt=\"Google Cloud logo\"><br> Open in  Cloud Skills Boost\n",
    "    </a>\n",
    "  </td>\n",
    "</table>\n",
    "\n",
    "<div style=\"clear: both;\"></div>\n",
    "\n",
    "<b>Share to:</b>\n",
    "\n",
    "<a href=\"https://www.linkedin.com/sharing/share-offsite/?url=https%3A//github.com/GoogleCloudPlatform/generative-ai/blob/main/gemini/prompts/intro_prompt_design.ipynb\" target=\"_blank\">\n",
    "  <img width=\"20px\" src=\"https://upload.wikimedia.org/wikipedia/commons/8/81/LinkedIn_icon.svg\" alt=\"LinkedIn logo\">\n",
    "</a>\n",
    "\n",
    "<a href=\"https://bsky.app/intent/compose?text=https%3A//github.com/GoogleCloudPlatform/generative-ai/blob/main/gemini/prompts/intro_prompt_design.ipynb\" target=\"_blank\">\n",
    "  <img width=\"20px\" src=\"https://upload.wikimedia.org/wikipedia/commons/7/7a/Bluesky_Logo.svg\" alt=\"Bluesky logo\">\n",
    "</a>\n",
    "\n",
    "<a href=\"https://twitter.com/intent/tweet?url=https%3A//github.com/GoogleCloudPlatform/generative-ai/blob/main/gemini/prompts/intro_prompt_design.ipynb\" target=\"_blank\">\n",
    "  <img width=\"20px\" src=\"https://upload.wikimedia.org/wikipedia/commons/5/53/X_logo_2023_original.svg\" alt=\"X logo\">\n",
    "</a>\n",
    "\n",
    "<a href=\"https://reddit.com/submit?url=https%3A//github.com/GoogleCloudPlatform/generative-ai/blob/main/gemini/prompts/intro_prompt_design.ipynb\" target=\"_blank\">\n",
    "  <img width=\"20px\" src=\"https://redditinc.com/hubfs/Reddit%20Inc/Brand/Reddit_Logo.png\" alt=\"Reddit logo\">\n",
    "</a>\n",
    "\n",
    "<a href=\"https://www.facebook.com/sharer/sharer.php?u=https%3A//github.com/GoogleCloudPlatform/generative-ai/blob/main/gemini/prompts/intro_prompt_design.ipynb\" target=\"_blank\">\n",
    "  <img width=\"20px\" src=\"https://upload.wikimedia.org/wikipedia/commons/5/51/Facebook_f_logo_%282019%29.svg\" alt=\"Facebook logo\">\n",
    "</a>            "
   ]
  },
  {
   "cell_type": "markdown",
   "metadata": {
    "id": "84f0f73a0f76"
   },
   "source": [
    "| | |\n",
    "|-|-|\n",
    "|Author(s) | [Polong Lin](https://github.com/polong-lin), [Karl Weinmeister](https://github.com/kweinmeister) |"
   ]
  },
  {
   "cell_type": "markdown",
   "metadata": {
    "id": "tvgnzT1CKxrO"
   },
   "source": [
    "## Overview\n",
    "\n",
    "This notebook covers the essentials of prompt engineering, including some best practices.\n",
    "\n",
    "Learn more about prompt design in the [official documentation](https://cloud.google.com/vertex-ai/docs/generative-ai/text/text-overview).\n",
    "\n",
    "In this notebook, you learn best practices around prompt engineering -- how to design prompts to improve the quality of your responses.\n",
    "\n",
    "This notebook covers the following best practices for prompt engineering:\n",
    "\n",
    "- Be concise\n",
    "- Be specific and well-defined\n",
    "- Ask one task at a time\n",
    "- Turn generative tasks into classification tasks\n",
    "- Improve response quality by including examples"
   ]
  },
  {
   "cell_type": "markdown",
   "metadata": {
    "id": "61RBz8LLbxCR"
   },
   "source": [
    "## Getting Started"
   ]
  },
  {
   "cell_type": "markdown",
   "metadata": {
    "id": "No17Cw5hgx12"
   },
   "source": [
    "### Install Google Gen AI SDK\n"
   ]
  },
  {
   "cell_type": "code",
   "execution_count": 2,
   "metadata": {
    "id": "tFy3H3aPgx12",
    "tags": []
   },
   "outputs": [
    {
     "name": "stdout",
     "output_type": "stream",
     "text": [
      "Note: you may need to restart the kernel to use updated packages.\n"
     ]
    }
   ],
   "source": [
    "%pip install --upgrade --quiet google-genai"
   ]
  },
  {
   "cell_type": "markdown",
   "metadata": {
    "id": "R5Xep4W9lq-Z"
   },
   "source": [
    "### Restart runtime\n",
    "\n",
    "To use the newly installed packages in this Jupyter runtime, you must restart the runtime. You can do this by running the cell below, which will restart the current kernel."
   ]
  },
  {
   "cell_type": "code",
   "execution_count": 3,
   "metadata": {
    "id": "XRvKdaPDTznN",
    "tags": []
   },
   "outputs": [
    {
     "data": {
      "text/plain": [
       "{'status': 'ok', 'restart': True}"
      ]
     },
     "execution_count": 3,
     "metadata": {},
     "output_type": "execute_result"
    }
   ],
   "source": [
    "import IPython\n",
    "\n",
    "app = IPython.Application.instance()\n",
    "app.kernel.do_shutdown(True)"
   ]
  },
  {
   "cell_type": "markdown",
   "metadata": {
    "id": "SbmM4z7FOBpM"
   },
   "source": [
    "<div class=\"alert alert-block alert-warning\">\n",
    "<b>⚠️ The kernel is going to restart. Please wait until it is finished before continuing to the next step. ⚠️</b>\n",
    "</div>\n"
   ]
  },
  {
   "cell_type": "markdown",
   "metadata": {
    "id": "dmWOrTJ3gx13"
   },
   "source": [
    "### Authenticate your notebook environment (Colab only)\n",
    "\n",
    "Authenticate your environment on Google Colab.\n"
   ]
  },
  {
   "cell_type": "code",
   "execution_count": 1,
   "metadata": {
    "id": "NyKGtVQjgx13",
    "tags": []
   },
   "outputs": [],
   "source": [
    "import sys\n",
    "\n",
    "if \"google.colab\" in sys.modules:\n",
    "    from google.colab import auth\n",
    "\n",
    "    auth.authenticate_user()"
   ]
  },
  {
   "cell_type": "markdown",
   "metadata": {
    "id": "06489bd14f16"
   },
   "source": [
    "### Import libraries\n"
   ]
  },
  {
   "cell_type": "code",
   "execution_count": 2,
   "metadata": {
    "id": "154137022fb6",
    "tags": []
   },
   "outputs": [],
   "source": [
    "from IPython.display import Markdown, display\n",
    "from google import genai\n",
    "from google.genai.types import GenerateContentConfig"
   ]
  },
  {
   "cell_type": "markdown",
   "metadata": {
    "id": "DF4l8DTdWgPY"
   },
   "source": [
    "### Set Google Cloud project information and create client\n",
    "\n",
    "To get started using Vertex AI, you must have an existing Google Cloud project and [enable the Vertex AI API](https://console.cloud.google.com/flows/enableapi?apiid=aiplatform.googleapis.com).\n",
    "\n",
    "Learn more about [setting up a project and a development environment](https://cloud.google.com/vertex-ai/docs/start/cloud-environment)."
   ]
  },
  {
   "cell_type": "code",
   "execution_count": 3,
   "metadata": {
    "id": "Nqwi-5ufWp_B",
    "tags": []
   },
   "outputs": [],
   "source": [
    "import os\n",
    "\n",
    "PROJECT_ID = \"qwiklabs-gcp-04-19faddb94f50\"  # @param {type: \"string\", placeholder: \"[your-project-id]\", isTemplate: true}\n",
    "if not PROJECT_ID or PROJECT_ID == \"qwiklabs-gcp-04-19faddb94f50\":\n",
    "    PROJECT_ID = str(os.environ.get(\"GOOGLE_CLOUD_PROJECT\"))\n",
    "\n",
    "LOCATION = os.environ.get(\"GOOGLE_CLOUD_REGION\", \"us-east4\")"
   ]
  },
  {
   "cell_type": "code",
   "execution_count": 4,
   "metadata": {
    "id": "QqRWdPGmW3NJ",
    "tags": []
   },
   "outputs": [],
   "source": [
    "client = genai.Client(vertexai=True, project=PROJECT_ID, location=LOCATION)"
   ]
  },
  {
   "cell_type": "markdown",
   "metadata": {
    "id": "OnFPpCRtXRl4"
   },
   "source": [
    "### Load model\n",
    "\n",
    "Learn more about all [Gemini models on Vertex AI](https://cloud.google.com/vertex-ai/generative-ai/docs/learn/models#gemini-models)."
   ]
  },
  {
   "cell_type": "code",
   "execution_count": 5,
   "metadata": {
    "id": "IQYu_9SvXQah",
    "tags": []
   },
   "outputs": [],
   "source": [
    "MODEL_ID = \"gemini-2.0-flash-001\"  # @param {type: \"string\"}"
   ]
  },
  {
   "cell_type": "markdown",
   "metadata": {
    "id": "cVOtUNJ5X0PY"
   },
   "source": [
    "## Prompt engineering best practices"
   ]
  },
  {
   "cell_type": "markdown",
   "metadata": {
    "id": "uv_e0fEPX60q"
   },
   "source": [
    "Prompt engineering is all about how to design your prompts so that the response is what you were indeed hoping to see.\n",
    "\n",
    "The idea of using \"unfancy\" prompts is to minimize the noise in your prompt to reduce the possibility of the LLM misinterpreting the intent of the prompt. Below are a few guidelines on how to engineer \"unfancy\" prompts.\n",
    "\n",
    "In this section, you'll cover the following best practices when engineering prompts:\n",
    "\n",
    "* Be concise\n",
    "* Be specific, and well-defined\n",
    "* Ask one task at a time\n",
    "* Improve response quality by including examples\n",
    "* Turn generative tasks to classification tasks to improve safety"
   ]
  },
  {
   "cell_type": "markdown",
   "metadata": {
    "id": "0pY4XX0OX9_Y"
   },
   "source": [
    "### Be concise"
   ]
  },
  {
   "cell_type": "markdown",
   "metadata": {
    "id": "xlRpxyxGYA1K"
   },
   "source": [
    "🛑 Not recommended. The prompt below is unnecessarily verbose."
   ]
  },
  {
   "cell_type": "code",
   "execution_count": 6,
   "metadata": {
    "id": "YKV4G-CfXdbi",
    "tags": []
   },
   "outputs": [
    {
     "data": {
      "text/markdown": [
       "Okay, here are some name ideas for a dried flower shop, playing on different aspects of the business:\n",
       "\n",
       "**Emphasizing Permanence & Beauty:**\n",
       "\n",
       "*   **The Everbloom:** Classic and elegant, suggests lasting beauty.\n",
       "*   **Golden Hour Blooms:** Evokes a sense of warmth, nostalgia, and lasting beauty.\n",
       "*   **Lasting Petals:** Simple, clear, and highlights the longevity.\n",
       "*   **Preserved Posies:** Sweet and charming, emphasizes the preserving process.\n",
       "*   **Petrified Petals:** A little edgy and intriguing.\n",
       "*   **Timeless Blooms:** Focuses on the enduring quality.\n",
       "*   **The Still Life Florist:** Elevates the arrangement to art.\n",
       "*   **Forever Floral:** Simple, direct, and memorable.\n",
       "*   **Bloom & Bones:** If going for a more alternative and darker aesthetic.\n",
       "\n",
       "**Highlighting Dried/Preserved Aspects:**\n",
       "\n",
       "*   **Dried Delights:** Playful and suggests a variety of lovely things.\n",
       "*   **The Dried Flower Bar:** Implies a create-your-own experience.\n",
       "*   **Pressed Petals:** Emphasizes a specific preservation technique.\n",
       "*   **The Apothecary of Flowers:** Gives a vintage, almost medicinal feel.\n",
       "*   **Nature's Remnants:** A poetic and slightly melancholic touch.\n",
       "*   **Dried & Dusted:** Rustic and charming.\n",
       "\n",
       "**Modern & Chic:**\n",
       "\n",
       "*   **Arid Atelier:** Sophisticated and artistic.\n",
       "*   **The Botanical Archive:** Sounds curated and high-end.\n",
       "*   **Dust & Bloom:** Modern and slightly rebellious.\n",
       "*   **The Dry Bloom:** Simple, modern, and to the point.\n",
       "*   **Terra Flora:** \"Earth Flowers,\" suggests natural and earthy tones.\n",
       "*   **Sage & Stems:** If the shop has a specific aesthetic.\n",
       "\n",
       "**Whimsical & Creative:**\n",
       "\n",
       "*   **The Petal Alchemist:** Suggests a magical transformation.\n",
       "*   **The Whispering Wildflower:** Poetic and evokes a sense of natural beauty.\n",
       "*   **The Forgotten Garden:** Romantic and a little mysterious.\n",
       "*   **Bloomshadow:** Evokes a sense of mystery and natural beauty.\n",
       "\n",
       "**Tips for Choosing:**\n",
       "\n",
       "*   **Consider your target audience:**  Are you going for a high-end clientele or a more casual, bohemian vibe?\n",
       "*   **Check availability:** Make sure the name isn't already in use and that you can get a website domain and social media handles.\n",
       "*   **Say it out loud:** Does it sound good? Is it easy to remember?\n",
       "*   **Get feedback:** Ask friends, family, or potential customers what they think.\n",
       "\n",
       "I hope this gives you a good starting point! Good luck with your flower shop!\n"
      ],
      "text/plain": [
       "<IPython.core.display.Markdown object>"
      ]
     },
     "metadata": {},
     "output_type": "display_data"
    }
   ],
   "source": [
    "prompt = \"What do you think could be a good name for a flower shop that specializes in selling bouquets of dried flowers more than fresh flowers?\"\n",
    "\n",
    "response = client.models.generate_content(model=MODEL_ID, contents=prompt)\n",
    "display(Markdown(response.text))"
   ]
  },
  {
   "cell_type": "markdown",
   "metadata": {
    "id": "YrJexRHJYnmC"
   },
   "source": [
    "✅ Recommended. The prompt below is to the point and concise."
   ]
  },
  {
   "cell_type": "code",
   "execution_count": 7,
   "metadata": {
    "id": "VHetn9lCYrXB",
    "tags": []
   },
   "outputs": [
    {
     "data": {
      "text/markdown": [
       "Okay, here are some name suggestions for a dried flower shop, playing on different angles (rustic, elegant, modern, etc.):\n",
       "\n",
       "**Rustic & Natural:**\n",
       "\n",
       "*   The Dried Bloom\n",
       "*   Everlasting Petals\n",
       "*   Wilted Wonders (playful irony)\n",
       "*   Prairie Preserves\n",
       "*   Field & Forever\n",
       "*   The Still Life Florist\n",
       "*   Dust & Bloom\n",
       "*   Harvest Home Florals\n",
       "*   Root & Relic\n",
       "*   The Pressed Posy\n",
       "\n",
       "**Elegant & Refined:**\n",
       "\n",
       "*   The Gilded Stalk\n",
       "*   Amber Flora\n",
       "*   Eternal Blooms\n",
       "*   Botanical Echoes\n",
       "*   The Preserved Petal\n",
       "*   The Dried Garden\n",
       "*   Floral Legacy\n",
       "*   Chrysalis Blooms\n",
       "*   Timeless Florals\n",
       "*   Atelier d'Fleur Sèche (French for \"Dried Flower Workshop\")\n",
       "\n",
       "**Modern & Minimalist:**\n",
       "\n",
       "*   Dried.\n",
       "*   Bloom Archive\n",
       "*   The Still Life Co.\n",
       "*   Petal Studio\n",
       "*   Form & Flora\n",
       "*   Dried Goods\n",
       "*   The Sustainable Stem\n",
       "*   Everbloom\n",
       "*   The Dried Edit\n",
       "*   Second Bloom\n",
       "\n",
       "**Playful & Unique:**\n",
       "\n",
       "*   The Petal Pusher (with a twist)\n",
       "*   Fossil Flowers\n",
       "*   Bloom Bones\n",
       "*   The Botanical Time Capsule\n",
       "*   The Dusty Daisy\n",
       "*   Re-Bloom\n",
       "*   Forever in Bloom\n",
       "*   The Pressed Flower Parlour\n",
       "\n",
       "**Location Specific (If applicable):**\n",
       "\n",
       "*   [Town/Region Name] Dried Florals\n",
       "*   [Landmark/Street Name] Blooms\n",
       "\n",
       "**Tips for Choosing:**\n",
       "\n",
       "*   **Consider your target audience:** Who are you trying to attract?\n",
       "*   **Check for availability:** Make sure the name isn't already in use (especially online and in your area).  Do a trademark search!\n",
       "*   **Say it out loud:**  Is it easy to pronounce and remember?\n",
       "*   **Get feedback:** Ask friends, family, or potential customers what they think.\n",
       "*   **Think about your branding:** Does the name fit the overall aesthetic you're going for?\n",
       "\n",
       "Good luck!\n"
      ],
      "text/plain": [
       "<IPython.core.display.Markdown object>"
      ]
     },
     "metadata": {},
     "output_type": "display_data"
    }
   ],
   "source": [
    "prompt = \"Suggest a name for a flower shop that sells bouquets of dried flowers\"\n",
    "\n",
    "response = client.models.generate_content(model=MODEL_ID, contents=prompt)\n",
    "display(Markdown(response.text))"
   ]
  },
  {
   "cell_type": "markdown",
   "metadata": {
    "id": "eXTAvdOHY0OC"
   },
   "source": [
    "### Be specific, and well-defined"
   ]
  },
  {
   "cell_type": "markdown",
   "metadata": {
    "id": "FTH4GEIgY1dp"
   },
   "source": [
    "Suppose that you want to brainstorm creative ways to describe Earth."
   ]
  },
  {
   "cell_type": "markdown",
   "metadata": {
    "id": "o5BmXBiGY4KC"
   },
   "source": [
    "🛑 The prompt below might be a bit too generic (which is certainly OK if you'd like to ask a generic question!)"
   ]
  },
  {
   "cell_type": "code",
   "execution_count": 8,
   "metadata": {
    "id": "eHBaMvv7Y6mR",
    "tags": []
   },
   "outputs": [
    {
     "data": {
      "text/markdown": [
       "Okay, let's talk about Earth! It's a fascinating planet, and here's a breakdown of some key facts:\n",
       "\n",
       "**Basic Facts:**\n",
       "\n",
       "*   **Name:** Earth (also known as Terra)\n",
       "*   **Position in the Solar System:** 3rd planet from the Sun\n",
       "*   **Type:** Terrestrial planet (rocky)\n",
       "*   **Diameter:** Approximately 12,742 kilometers (7,918 miles)\n",
       "*   **Mass:** Approximately 5.97 × 10^24 kg\n",
       "*   **Orbit:** Nearly circular, taking about 365.25 days to complete (this is why we have leap years)\n",
       "*   **Rotation:** Approximately 24 hours (this is what gives us day and night)\n",
       "*   **Atmosphere:** Primarily nitrogen (78%) and oxygen (21%), with small amounts of other gases like argon, carbon dioxide, and water vapor\n",
       "*   **Satellites:** One natural satellite, the Moon\n",
       "*   **Temperature:** Average surface temperature is about 15°C (59°F), but it varies widely depending on location and time of year.\n",
       "*   **Water:** Approximately 71% of the Earth's surface is covered by water.\n",
       "\n",
       "**Key Features and Characteristics:**\n",
       "\n",
       "*   **Habitable Zone:** Earth resides within the Sun's habitable zone, meaning it's at the right distance for liquid water to exist on its surface.  This is crucial for life as we know it.\n",
       "*   **Plate Tectonics:** Earth's lithosphere (outermost layer) is divided into large plates that move and interact. This process drives continental drift, earthquakes, volcanoes, and the formation of mountains and ocean trenches.\n",
       "*   **Magnetic Field:** Generated by the movement of molten iron in Earth's outer core, the magnetic field protects the planet from harmful solar radiation and cosmic rays.\n",
       "*   **Atmosphere and Greenhouse Effect:** The atmosphere moderates Earth's temperature, preventing extreme swings between day and night. Greenhouse gases trap some of the Sun's heat, creating a warmer, more habitable environment. However, an excess of greenhouse gases is causing climate change.\n",
       "*   **Oceans:** Earth is unique in the solar system for having large bodies of liquid water on its surface. The oceans play a vital role in regulating climate, distributing heat, and supporting a vast array of life.\n",
       "*   **Life:** Earth is the only known planet to harbor life. The diversity of life is astounding, ranging from microscopic bacteria to giant whales and complex ecosystems.\n",
       "\n",
       "**Internal Structure:**\n",
       "\n",
       "Earth has a layered structure:\n",
       "\n",
       "*   **Inner Core:** Solid iron and nickel, under immense pressure and heat.\n",
       "*   **Outer Core:** Molten iron and nickel, responsible for generating the magnetic field.\n",
       "*   **Mantle:** Thickest layer, composed of silicate rocks. Part of the mantle is solid, while another part is semi-molten (the asthenosphere).\n",
       "*   **Crust:** Earth's outermost solid layer, relatively thin and composed of either oceanic crust (basalt) or continental crust (granite).\n",
       "\n",
       "**Earth's History:**\n",
       "\n",
       "*   **Formation:** Earth formed about 4.54 billion years ago from the solar nebula, a cloud of gas and dust left over from the Sun's formation.\n",
       "*   **Early Earth:** The early Earth was a very different place, with frequent volcanic eruptions, asteroid impacts, and a toxic atmosphere.\n",
       "*   **Origin of Life:** The exact origin of life is still a mystery, but it is believed to have arisen in the oceans billions of years ago.\n",
       "*   **Evolution:** Life on Earth has evolved and diversified over billions of years, shaped by natural selection and environmental changes.\n",
       "*   **Human Impact:** In recent centuries, human activities have had a significant impact on Earth's environment, leading to climate change, pollution, and biodiversity loss.\n",
       "\n",
       "**Why is Earth Special?**\n",
       "\n",
       "*   **Liquid Water:** The presence of abundant liquid water is essential for life as we know it.\n",
       "*   **Stable Temperature:** Earth's atmosphere and greenhouse effect maintain a relatively stable temperature range, allowing for liquid water to exist and life to thrive.\n",
       "*   **Oxygen-Rich Atmosphere:** The presence of oxygen in the atmosphere, produced by photosynthesis, has allowed for the evolution of complex life.\n",
       "*   **Protection from Radiation:** Earth's magnetic field and atmosphere protect the surface from harmful radiation.\n",
       "*   **Plate Tectonics:** While sometimes destructive, plate tectonics plays a role in regulating Earth's climate and cycling nutrients.\n",
       "\n",
       "**Current Challenges:**\n",
       "\n",
       "*   **Climate Change:** Driven by human activities, climate change is leading to rising temperatures, sea level rise, and more extreme weather events.\n",
       "*   **Pollution:** Air, water, and soil pollution are harming ecosystems and human health.\n",
       "*   **Biodiversity Loss:** Species are going extinct at an alarming rate due to habitat destruction, pollution, and climate change.\n",
       "*   **Resource Depletion:** We are using up natural resources faster than they can be replenished.\n",
       "\n",
       "**In Conclusion:**\n",
       "\n",
       "Earth is a unique and dynamic planet with a rich history and a complex system of interacting components. It is the only known planet to harbor life, and we have a responsibility to protect it for future generations. Understanding Earth's processes, challenges, and history is crucial for making informed decisions about our future.\n"
      ],
      "text/plain": [
       "<IPython.core.display.Markdown object>"
      ]
     },
     "metadata": {},
     "output_type": "display_data"
    }
   ],
   "source": [
    "prompt = \"Tell me about Earth\"\n",
    "\n",
    "response = client.models.generate_content(model=MODEL_ID, contents=prompt)\n",
    "display(Markdown(response.text))"
   ]
  },
  {
   "cell_type": "markdown",
   "metadata": {
    "id": "4iyvEbteZnFL"
   },
   "source": [
    "✅ Recommended. The prompt below is specific and well-defined."
   ]
  },
  {
   "cell_type": "code",
   "execution_count": 9,
   "metadata": {
    "id": "JQ80z8urZnne",
    "tags": []
   },
   "outputs": [
    {
     "data": {
      "text/markdown": [
       "Earth possesses a unique combination of features that, as far as we currently know, makes it stand out among all other planets we've observed. Here are some key factors that contribute to Earth's uniqueness:\n",
       "\n",
       "**Essential for Life:**\n",
       "\n",
       "*   **Liquid Water on the Surface:**  Earth is the only planet we know of with stable bodies of liquid water on its surface. Water is a crucial solvent and medium for life as we understand it.\n",
       "*   **Oxygen-Rich Atmosphere:** Earth's atmosphere is approximately 21% oxygen, a highly reactive element essential for complex life forms that rely on respiration.  This oxygen is primarily produced by photosynthetic organisms.\n",
       "*   **Stable Temperature Range:** Earth's distance from the sun, coupled with its atmosphere, allows for a temperature range that supports liquid water and the complex chemical reactions necessary for life.\n",
       "*   **Presence of Life (as far as we know):**  Earth is the only known planet to harbor life, from simple microorganisms to complex multicellular organisms.  This alone makes it incredibly unique.\n",
       "*   **Plate Tectonics:** The dynamic process of plate tectonics, where Earth's crust is divided into plates that move and interact, is crucial for regulating the carbon cycle, maintaining a stable climate, and creating diverse geological features.\n",
       "*   **Strong Magnetic Field:** Generated by its iron core, Earth's magnetic field deflects harmful solar wind and cosmic radiation, protecting the atmosphere and life on the surface.\n",
       "\n",
       "**Geological and Chemical Properties:**\n",
       "\n",
       "*   **Complex Geology:**  Earth boasts a wide variety of geological features, including mountains, volcanoes, canyons, and oceans, shaped by tectonics, erosion, and other processes.\n",
       "*   **Chemical Composition:** While other planets share some elements, the specific combination and distribution of elements on Earth, particularly the abundance of carbon, nitrogen, and phosphorus, are vital for life.\n",
       "*   **Active Volcanism:**  Volcanic activity plays a role in releasing gases from the Earth's interior, contributing to the atmosphere and influencing the planet's climate.\n",
       "*   **Presence of a Large Moon:** The Moon stabilizes Earth's axial tilt, preventing extreme climate variations, and influences tides, which may have played a role in the development of life.\n",
       "\n",
       "**Other Notable Factors:**\n",
       "\n",
       "*   **Ozone Layer:** The ozone layer in Earth's stratosphere absorbs most of the harmful ultraviolet (UV) radiation from the sun, protecting life on the surface.\n",
       "*   **Relatively Circular Orbit:** Earth's orbit is nearly circular, leading to relatively stable seasons and climate compared to planets with more elliptical orbits.\n",
       "*   **Continents and Oceans:**  The distribution of landmasses and oceans shapes weather patterns, ocean currents, and biodiversity.\n",
       "*   **Complex Ecosystems:** Earth's diverse ecosystems, from rainforests to deserts to coral reefs, are interconnected and support a vast array of life forms.\n",
       "\n",
       "It's important to remember that our understanding of exoplanets is constantly evolving. As we discover and study more planets beyond our solar system, we may find other planets that share some of Earth's unique characteristics or even possess entirely new features that challenge our current understanding of planetary habitability. However, at present, Earth remains truly exceptional in the context of our known universe.\n"
      ],
      "text/plain": [
       "<IPython.core.display.Markdown object>"
      ]
     },
     "metadata": {},
     "output_type": "display_data"
    }
   ],
   "source": [
    "prompt = \"Generate a list of ways that makes Earth unique compared to other planets\"\n",
    "\n",
    "response = client.models.generate_content(model=MODEL_ID, contents=prompt)\n",
    "display(Markdown(response.text))"
   ]
  },
  {
   "cell_type": "markdown",
   "metadata": {
    "id": "R5kmfZYHZsJ7"
   },
   "source": [
    "### Ask one task at a time"
   ]
  },
  {
   "cell_type": "markdown",
   "metadata": {
    "id": "rsAezxeYZuUN"
   },
   "source": [
    "🛑 Not recommended. The prompt below has two parts to the question that could be asked separately."
   ]
  },
  {
   "cell_type": "code",
   "execution_count": 10,
   "metadata": {
    "id": "ElywPXpuZtWf",
    "tags": []
   },
   "outputs": [
    {
     "data": {
      "text/markdown": [
       "Let's tackle these two very different questions!\n",
       "\n",
       "**Best Method of Boiling Water:**\n",
       "\n",
       "The \"best\" method of boiling water depends on your priorities and resources. Here's a breakdown of common methods and their pros/cons:\n",
       "\n",
       "*   **Electric Kettle:**\n",
       "    *   **Pros:** Fastest, most energy-efficient for small amounts, safe (automatic shut-off), convenient, often portable.\n",
       "    *   **Cons:** Requires electricity, can be noisy, some have limited capacity.\n",
       "\n",
       "*   **Stovetop (Kettle or Pot):**\n",
       "    *   **Pros:** Versatile (works with various heat sources), can boil large amounts, no need for specific kettle.\n",
       "    *   **Cons:** Can be slower than an electric kettle, less energy-efficient, requires monitoring to prevent boil-over, stovetop required.\n",
       "\n",
       "*   **Microwave:**\n",
       "    *   **Pros:** Quick, convenient for single servings.\n",
       "    *   **Cons:** Uneven heating (can cause superheating and explosive boiling), can impart a plastic taste if using a plastic container, not ideal for large quantities, not as energy-efficient as an electric kettle.\n",
       "\n",
       "*   **Induction Cooktop (with Kettle or Pot):**\n",
       "    *   **Pros:** Very fast, energy-efficient, precise temperature control, safe (surface doesn't get as hot).\n",
       "    *   **Cons:** Requires induction-compatible cookware, more expensive than other stovetop options.\n",
       "\n",
       "*   **Over a Fire (Camping/Outdoors):**\n",
       "    *   **Pros:** Useful when electricity isn't available.\n",
       "    *   **Cons:** Slow, requires fuel (wood, propane), potentially dangerous (fire hazard), adds soot to the pot.\n",
       "\n",
       "**Summary Table:**\n",
       "\n",
       "| Method         | Speed     | Energy Efficiency | Convenience | Safety  | Cost      | Best For                                     |\n",
       "|----------------|-----------|--------------------|-------------|---------|-----------|---------------------------------------------|\n",
       "| Electric Kettle| Fastest   | Highest            | Highest     | High    | Moderate  | Small amounts, quick tea/coffee            |\n",
       "| Stovetop       | Medium    | Medium             | Medium      | Medium  | Low       | Large amounts, general cooking               |\n",
       "| Microwave      | Quick     | Low                | High        | Low     | Low       | Single servings, reheating                       |\n",
       "| Induction      | Very Fast | High               | Medium      | High    | High      | Speed & efficiency, precise temperature control |\n",
       "| Over a Fire    | Slow      | Low                | Low         | Low     | Low (Fuel) | Camping, emergencies                            |\n",
       "\n",
       "**Therefore, the \"best\" method is often the electric kettle due to its speed, energy efficiency, and convenience. However, it truly depends on your specific needs.**\n",
       "\n",
       "**Why is the Sky Blue?**\n",
       "\n",
       "The sky is blue due to a phenomenon called **Rayleigh scattering**. Here's the simplified explanation:\n",
       "\n",
       "1.  **Sunlight Enters the Atmosphere:** Sunlight is made up of all the colors of the rainbow.\n",
       "\n",
       "2.  **Light Interacts with Air Molecules:** When sunlight enters the Earth's atmosphere, it collides with tiny air molecules (mostly nitrogen and oxygen).\n",
       "\n",
       "3.  **Scattering of Light:** This collision causes the sunlight to scatter in different directions. The amount of scattering depends on the wavelength (color) of the light.\n",
       "\n",
       "4.  **Blue Light is Scattered More:** Blue light has a shorter wavelength than other colors of light (like red and orange). Because of this, blue light is scattered much more strongly by the air molecules.\n",
       "\n",
       "5.  **We See Blue:**  All this scattered blue light reaches our eyes from all directions, making the sky appear blue.\n",
       "\n",
       "**Why not violet?** Violet light has an even shorter wavelength than blue, so it is scattered even more. However:\n",
       "\n",
       "*   **Sunlight contains less violet light than blue light.**\n",
       "*   **Our eyes are more sensitive to blue light than violet light.**\n",
       "\n",
       "Therefore, even though violet is scattered the most, we perceive the sky as blue.\n",
       "\n",
       "**In summary: Shorter wavelengths (blue and violet) are scattered more effectively by the Earth's atmosphere than longer wavelengths (red and orange), making the sky appear blue.**\n"
      ],
      "text/plain": [
       "<IPython.core.display.Markdown object>"
      ]
     },
     "metadata": {},
     "output_type": "display_data"
    }
   ],
   "source": [
    "prompt = \"What's the best method of boiling water and why is the sky blue?\"\n",
    "\n",
    "response = client.models.generate_content(model=MODEL_ID, contents=prompt)\n",
    "display(Markdown(response.text))"
   ]
  },
  {
   "cell_type": "markdown",
   "metadata": {
    "id": "ejzahazBZ8vk"
   },
   "source": [
    "✅ Recommended. The prompts below asks one task a time."
   ]
  },
  {
   "cell_type": "code",
   "execution_count": 11,
   "metadata": {
    "id": "C5ckp2F0Z_Ba",
    "tags": []
   },
   "outputs": [
    {
     "data": {
      "text/markdown": [
       "There's no single \"best\" method for boiling water, as the ideal choice depends on several factors, including:\n",
       "\n",
       "*   **Speed:** How quickly do you need the water to boil?\n",
       "*   **Energy Efficiency:** How important is it to minimize energy consumption?\n",
       "*   **Convenience:** How easy and accessible is the method?\n",
       "*   **Quantity:** How much water do you need to boil?\n",
       "*   **Safety:** Is the method safe to use, especially around children?\n",
       "\n",
       "Considering these factors, here's a breakdown of common methods:\n",
       "\n",
       "**1. Electric Kettle:**\n",
       "\n",
       "*   **Speed:** Generally the fastest for small to medium amounts (up to 2 liters).\n",
       "*   **Energy Efficiency:** Very efficient, as they heat only the water inside.\n",
       "*   **Convenience:** Extremely convenient; just fill and press a button. Many have auto shut-off for safety.\n",
       "*   **Quantity:** Best for smaller quantities, typically up to 2 liters.\n",
       "*   **Safety:** Generally safe with auto-shutoff features.\n",
       "*   **Best For:** Everyday use, tea, coffee, small amounts of cooking water.\n",
       "\n",
       "**2. Stovetop Kettle:**\n",
       "\n",
       "*   **Speed:** Slower than electric kettles, but faster than a pot on the stove.\n",
       "*   **Energy Efficiency:** Less efficient than electric kettles, as heat is lost to the surrounding air.\n",
       "*   **Convenience:** Requires monitoring; can whistle when ready.\n",
       "*   **Quantity:** Good for medium to large quantities.\n",
       "*   **Safety:** Can be hot to the touch; requires attention.\n",
       "*   **Best For:** Medium to large amounts, those who prefer a traditional method.\n",
       "\n",
       "**3. Stovetop Pot:**\n",
       "\n",
       "*   **Speed:** Slowest method, especially with larger pots.\n",
       "*   **Energy Efficiency:** Least efficient, as heat is lost to the air.\n",
       "*   **Convenience:** Least convenient, requires constant monitoring to prevent boiling over.\n",
       "*   **Quantity:** Can handle any quantity, from small to very large.\n",
       "*   **Safety:** Requires careful monitoring, can be a burn hazard.\n",
       "*   **Best For:** Large quantities of water, situations where other methods are unavailable.\n",
       "\n",
       "**4. Microwave:**\n",
       "\n",
       "*   **Speed:** Can be fast for very small amounts (1-2 cups).\n",
       "*   **Energy Efficiency:** Relatively efficient for small amounts.\n",
       "*   **Convenience:** Easy to use, but can be uneven heating.\n",
       "*   **Quantity:** Best for small amounts (1-2 cups).\n",
       "*   **Safety:** Can cause superheating (water heating beyond its boiling point without bubbling, leading to explosive boiling when disturbed). Avoid using smooth-sided mugs.  Always use a microwave-safe container. Add a non-metallic item like a wooden spoon to prevent superheating.\n",
       "*   **Best For:** Quick heating of small amounts for tea or single-serving coffee, but with caution.\n",
       "\n",
       "**5. Induction Cooktop:**\n",
       "\n",
       "*   **Speed:** Very fast, comparable to electric kettles or even faster, especially for large amounts.\n",
       "*   **Energy Efficiency:** Highly efficient because the heat is generated directly in the cookware.\n",
       "*   **Convenience:** Fast and controllable, but requires compatible cookware (must be magnetic).\n",
       "*   **Quantity:** Suitable for any quantity, limited only by the size of the cookware.\n",
       "*   **Safety:** Relatively safe, as the surface doesn't get as hot as a regular stovetop.\n",
       "*   **Best For:** Fast and efficient boiling of water in various quantities.\n",
       "\n",
       "**Summary Table**\n",
       "\n",
       "| Method             | Speed       | Energy Efficiency | Convenience | Quantity        | Safety           | Best For                                                                                                                                                             |\n",
       "| ------------------ | ----------- | ------------------- | ----------- | --------------- | ---------------- | --------------------------------------------------------------------------------------------------------------------------------------------------------------------- |\n",
       "| Electric Kettle    | Fastest     | Very High           | Very High   | Small/Medium    | High (Auto Shutoff) | Tea, coffee, small cooking needs, everyday use                                                                                                                        |\n",
       "| Stovetop Kettle    | Fast        | Medium              | Medium      | Medium/Large    | Medium           | Medium to large amounts of water, traditional feel                                                                                                                       |\n",
       "| Stovetop Pot       | Slowest     | Low                 | Low         | Any             | Low            | Large quantities, when other methods aren't available                                                                                                                 |\n",
       "| Microwave           | Fast (Small) | Medium/High (Small)| Medium      | Very Small      | Low (Superheating) | Very small amounts of water quickly, but with caution to prevent superheating                                                                                       |\n",
       "| Induction Cooktop | Very Fast   | Very High           | High        | Any             | High             | Fast and efficient boiling of water in various quantities, especially when you have compatible cookware.                                                                    |\n",
       "\n",
       "**Recommendation:**\n",
       "\n",
       "For most people, **an electric kettle is generally the best option** for its speed, energy efficiency, and convenience. However, consider your specific needs and preferences when making your choice.\n",
       "\n",
       "If you value speed above all else and have an induction cooktop, that may be the fastest.  If you need to boil a very large pot of water for pasta, the stovetop pot is the most practical. If you just need a cup of hot water and want it *right now*, the microwave (with appropriate safety measures) might be okay.\n"
      ],
      "text/plain": [
       "<IPython.core.display.Markdown object>"
      ]
     },
     "metadata": {},
     "output_type": "display_data"
    }
   ],
   "source": [
    "prompt = \"What's the best method of boiling water?\"\n",
    "\n",
    "response = client.models.generate_content(model=MODEL_ID, contents=prompt)\n",
    "display(Markdown(response.text))"
   ]
  },
  {
   "cell_type": "code",
   "execution_count": 12,
   "metadata": {
    "id": "KwUzhud4aA89",
    "tags": []
   },
   "outputs": [
    {
     "data": {
      "text/markdown": [
       "The sky appears blue due to a phenomenon called **Rayleigh scattering**. Here's a breakdown of the explanation:\n",
       "\n",
       "*   **Sunlight and its components:** Sunlight is actually made up of all the colors of the rainbow.\n",
       "\n",
       "*   **Atmosphere and air molecules:** Earth's atmosphere is composed of gases, primarily nitrogen and oxygen. These gases are made up of molecules that are much smaller than the wavelengths of visible light.\n",
       "\n",
       "*   **Rayleigh Scattering:** When sunlight enters the atmosphere, it collides with these tiny air molecules. This collision causes the light to scatter in different directions.\n",
       "\n",
       "*   **Wavelength and scattering:** Rayleigh scattering is more effective at scattering shorter wavelengths of light (blue and violet) than longer wavelengths (red and orange). This is because the amount of scattering is inversely proportional to the fourth power of the wavelength (1/λ⁴).\n",
       "\n",
       "*   **Why blue, not violet?** While violet light is scattered even more than blue light, the sun emits less violet light than blue light. Also, our eyes are more sensitive to blue light than violet light. As a result, we perceive the sky as blue.\n",
       "\n",
       "**In simpler terms:**\n",
       "\n",
       "Imagine throwing a handful of tiny bouncy balls (light) at a bunch of tiny obstacles (air molecules). The smaller, blue bouncy balls bounce off in all directions much more easily than the larger, red bouncy balls. Since the blue light is scattered around more, it fills the sky and that's what we see.\n",
       "\n",
       "**Why are sunsets red/orange?**\n",
       "\n",
       "When the sun is low on the horizon (sunrise or sunset), sunlight has to travel through much more of the atmosphere to reach our eyes. This means that most of the blue light has already been scattered away by the time it gets to us. The longer wavelengths of light, like red and orange, are less easily scattered and can pass through the atmosphere more easily. This is why sunsets and sunrises often appear red or orange."
      ],
      "text/plain": [
       "<IPython.core.display.Markdown object>"
      ]
     },
     "metadata": {},
     "output_type": "display_data"
    }
   ],
   "source": [
    "prompt = \"Why is the sky blue?\"\n",
    "\n",
    "response = client.models.generate_content(model=MODEL_ID, contents=prompt)\n",
    "display(Markdown(response.text))"
   ]
  },
  {
   "cell_type": "markdown",
   "metadata": {
    "id": "PJIL2RTQaGcT"
   },
   "source": [
    "### Watch out for hallucinations"
   ]
  },
  {
   "cell_type": "markdown",
   "metadata": {
    "id": "8Y8kYxrSaHE9"
   },
   "source": [
    "Although LLMs have been trained on a large amount of data, they can generate text containing statements not grounded in truth or reality; these responses from the LLM are often referred to as \"hallucinations\" due to their limited memorization capabilities. Note that simply prompting the LLM to provide a citation isn't a fix to this problem, as there are instances of LLMs providing false or inaccurate citations. Dealing with hallucinations is a fundamental challenge of LLMs and an ongoing research area, so it is important to be cognizant that LLMs may seem to give you confident, correct-sounding statements that are in fact incorrect.\n",
    "\n",
    "Note that if you intend to use LLMs for the creative use cases, hallucinating could actually be quite useful."
   ]
  },
  {
   "cell_type": "markdown",
   "metadata": {
    "id": "8NY5nAGeaJYS"
   },
   "source": [
    "Try the prompt like the one below repeatedly. We set the temperature to `1.0` so that it takes more risks in its choices. It's possible that it may provide an inaccurate, but confident answer."
   ]
  },
  {
   "cell_type": "code",
   "execution_count": 13,
   "metadata": {
    "id": "QALPjEILaM62",
    "tags": []
   },
   "outputs": [
    {
     "data": {
      "text/markdown": [
       "Today is Sunday, October 29th, 2023.\n"
      ],
      "text/plain": [
       "<IPython.core.display.Markdown object>"
      ]
     },
     "metadata": {},
     "output_type": "display_data"
    }
   ],
   "source": [
    "generation_config = GenerateContentConfig(temperature=1.0)\n",
    "\n",
    "prompt = \"What day is it today?\"\n",
    "\n",
    "response = client.models.generate_content(model=MODEL_ID, contents=prompt)\n",
    "display(Markdown(response.text))"
   ]
  },
  {
   "cell_type": "markdown",
   "metadata": {
    "id": "BRkwzbgRbhKt"
   },
   "source": [
    "Since LLMs do not have access to real-time information without further integrations, you may have noticed it hallucinates what day it is today in some of the outputs."
   ]
  },
  {
   "cell_type": "markdown",
   "metadata": {},
   "source": [
    "## Reduce Output Variability"
   ]
  },
  {
   "cell_type": "markdown",
   "metadata": {
    "id": "3c811e310d02"
   },
   "source": [
    "### Using system instructions to guardrail the model from irrelevant responses\n",
    "\n",
    "How can we attempt to reduce the chances of irrelevant responses and hallucinations?\n",
    "\n",
    "One way is to provide the LLM with [system instructions](https://cloud.google.com/vertex-ai/generative-ai/docs/multimodal/send-chat-prompts-gemini#system-instructions).\n",
    "\n",
    "Let's see how system instructions works and how you can use them to reduce hallucinations or irrelevant questions for a travel chatbot.\n",
    "\n",
    "Suppose we ask a simple question about one of Italy's most famous tourist spots."
   ]
  },
  {
   "cell_type": "code",
   "execution_count": 14,
   "metadata": {
    "id": "rB6zJU76biFK",
    "tags": []
   },
   "outputs": [
    {
     "data": {
      "text/markdown": [
       "Milan offers a wealth of attractions for sightseeing! Here are some of the most popular and highly-rated places to visit:\n",
       "\n",
       "*   **Duomo di Milano (Milan Cathedral):** This iconic Gothic cathedral is a must-see. You can explore the interior, climb to the rooftop for stunning views of the city, and visit the archaeological area beneath the cathedral.\n",
       "\n",
       "*   **Galleria Vittorio Emanuele II:** Located next to the Duomo, this stunning 19th-century glass-domed arcade is filled with luxury shops, cafes, and restaurants. It's a beautiful place to stroll and admire the architecture.\n",
       "\n",
       "*   **Teatro alla Scala:** One of the world's most famous opera houses. You can take a tour of the theater and learn about its history or, if you're lucky, attend a performance.\n",
       "\n",
       "*   **Castello Sforzesco (Sforza Castle):** A large medieval castle that now houses several museums, including art galleries and archaeological collections. The surrounding park is also a lovely place to relax.\n",
       "\n",
       "*   **Santa Maria delle Grazie:** This church is home to Leonardo da Vinci's masterpiece, \"The Last Supper.\" Reservations are required to see the painting and should be booked well in advance.\n",
       "\n",
       "*   **Pinacoteca di Brera:** A major art gallery with an extensive collection of Italian paintings, including works by Raphael, Caravaggio, and Tintoretto.\n",
       "\n",
       "*   **Navigli District:** A charming area with canals, lined with restaurants, bars, and shops. It's a great place to go for an evening stroll or aperitivo.\n",
       "\n",
       "*   **Brera District:** A bohemian neighborhood known for its art galleries, boutiques, and cafes.\n",
       "\n",
       "To help me tailor my recommendations, could you tell me what type of sightseeing are you most interested in? (e.g., historical sites, art museums, architecture, shopping, etc.)\n"
      ],
      "text/plain": [
       "<IPython.core.display.Markdown object>"
      ]
     },
     "metadata": {},
     "output_type": "display_data"
    }
   ],
   "source": [
    "generation_config = GenerateContentConfig(temperature=1.0)\n",
    "\n",
    "chat = client.chats.create(\n",
    "    model=MODEL_ID,\n",
    "    config=GenerateContentConfig(\n",
    "        system_instruction=[\n",
    "            \"Hello! You are an AI chatbot for a travel web site.\",\n",
    "            \"Your mission is to provide helpful queries for travelers.\",\n",
    "            \"Remember that before you answer a question, you must check to see if it complies with your mission.\",\n",
    "            \"If not, you can say, Sorry I can't answer that question.\",\n",
    "        ]\n",
    "    ),\n",
    ")\n",
    "\n",
    "prompt = \"What is the best place for sightseeing in Milan, Italy?\"\n",
    "\n",
    "response = chat.send_message(prompt)\n",
    "display(Markdown(response.text))"
   ]
  },
  {
   "cell_type": "markdown",
   "metadata": {
    "id": "WZa-Qcf9cF4A"
   },
   "source": [
    "Now let us pretend to be a user asks the chatbot a question that is unrelated to travel."
   ]
  },
  {
   "cell_type": "code",
   "execution_count": 15,
   "metadata": {
    "id": "AZKBIDr2cGnu",
    "tags": []
   },
   "outputs": [
    {
     "data": {
      "text/markdown": [
       "I already answered this question. Is there anything else I can help you with?\n"
      ],
      "text/plain": [
       "<IPython.core.display.Markdown object>"
      ]
     },
     "metadata": {},
     "output_type": "display_data"
    }
   ],
   "source": [
    "prompt = \"What is the best place for sightseeing in Milan, Italy?\"\n",
    "\n",
    "response = chat.send_message(prompt)\n",
    "display(Markdown(response.text))"
   ]
  },
  {
   "cell_type": "markdown",
   "metadata": {
    "id": "JiUYIhwpctCy"
   },
   "source": [
    "You can see that this way, a guardrail in the prompt prevented the chatbot from veering off course."
   ]
  },
  {
   "cell_type": "markdown",
   "metadata": {
    "id": "ZuuDhA37cvmP"
   },
   "source": [
    "### Turn generative tasks into classification tasks to reduce output variability"
   ]
  },
  {
   "cell_type": "markdown",
   "metadata": {
    "id": "kUCUrsUzczmb"
   },
   "source": [
    "#### Generative tasks lead to higher output variability"
   ]
  },
  {
   "cell_type": "markdown",
   "metadata": {
    "id": "a1xASHAkc46n"
   },
   "source": [
    "The prompt below results in an open-ended response, useful for brainstorming, but response is highly variable."
   ]
  },
  {
   "cell_type": "code",
   "execution_count": 16,
   "metadata": {
    "id": "nPfXQWIacwRf",
    "tags": []
   },
   "outputs": [
    {
     "data": {
      "text/markdown": [
       "Okay, here are a few programming activities tailored for a high school student, categorized by skill level and interest, along with justifications for why they're good choices.  I'll also suggest languages to use for each.\n",
       "\n",
       "**Beginner-Friendly Activities (Focus: Fundamentals, Logic, Simple Data Structures)**\n",
       "\n",
       "1.  **Text-Based Adventure Game:**\n",
       "\n",
       "    *   **Description:** Create a simple text-based adventure game where the user makes choices that affect the story's outcome.  This could involve exploring rooms, finding items, fighting monsters (represented textually), and solving puzzles.\n",
       "    *   **Why it's good:**\n",
       "        *   **Excellent for learning control flow:**  `if/else`, `while` loops, and potentially `switch` statements become essential for navigating the game's logic.\n",
       "        *   **Introduces input/output:**  You'll be reading user input and displaying text.\n",
       "        *   **Basic data structures:** You can use lists/arrays to store inventory items or room descriptions.\n",
       "        *   **Fun and engaging:**  You get to design the story and world, which can be a great motivator.\n",
       "    *   **Suggested Language:**  **Python** is ideal for beginners due to its readability and simple syntax.  **JavaScript** (using the console) is also viable.\n",
       "\n",
       "    *   **Example Snippet (Python):**\n",
       "\n",
       "        ```python\n",
       "        def start_game():\n",
       "            print(\"You wake up in a dark forest.\")\n",
       "            print(\"There are two paths ahead: left and right.\")\n",
       "            choice = input(\"Which path do you take? (left/right): \")\n",
       "\n",
       "            if choice == \"left\":\n",
       "                print(\"You encounter a grumpy troll...\")\n",
       "                # More logic here\n",
       "            elif choice == \"right\":\n",
       "                print(\"You find a hidden treasure chest!\")\n",
       "                # More logic here\n",
       "            else:\n",
       "                print(\"Invalid choice. You stumble and fall.\")\n",
       "                start_game() #restart the turn\n",
       "        start_game()\n",
       "        ```\n",
       "\n",
       "2.  **Simple Calculator:**\n",
       "\n",
       "    *   **Description:** Build a calculator that can perform basic arithmetic operations (addition, subtraction, multiplication, division).  You can extend it to handle exponents, roots, or trigonometric functions.\n",
       "    *   **Why it's good:**\n",
       "        *   **Reinforces fundamental math concepts:** You'll be translating mathematical operations into code.\n",
       "        *   **Input validation:**  Teaches you to handle potential errors (e.g., dividing by zero, invalid input).\n",
       "        *   **Functions/Methods:**  A good opportunity to break down the calculator's functionality into separate functions (e.g., `add()`, `subtract()`, `multiply()`, `divide()`).\n",
       "    *   **Suggested Language:** **Python**, **JavaScript**, or **Java**.  Java might be slightly more challenging to set up initially but provides a good introduction to object-oriented programming.\n",
       "\n",
       "    *   **Example Snippet (JavaScript):**\n",
       "\n",
       "        ```javascript\n",
       "        function add(a, b) {\n",
       "          return a + b;\n",
       "        }\n",
       "\n",
       "        let num1 = parseFloat(prompt(\"Enter first number:\"));\n",
       "        let num2 = parseFloat(prompt(\"Enter second number:\"));\n",
       "        let sum = add(num1, num2);\n",
       "        console.log(\"The sum is: \" + sum);\n",
       "        ```\n",
       "\n",
       "**Intermediate Activities (Focus: Data Structures, Algorithms, Slightly More Complex Logic)**\n",
       "\n",
       "3.  **To-Do List Application:**\n",
       "\n",
       "    *   **Description:** Create a command-line or simple GUI application that allows users to add, remove, and view items on a to-do list.  Consider adding features like prioritizing tasks or setting deadlines.\n",
       "    *   **Why it's good:**\n",
       "        *   **Data structures:**  You'll use lists/arrays (or more advanced structures like linked lists if you're feeling ambitious) to store the to-do items.\n",
       "        *   **User interface:** Even a basic command-line interface requires thinking about how the user interacts with your program.  If you choose a GUI, you'll learn about event handling and layout management.\n",
       "        *   **File I/O (Optional):**  You can save and load the to-do list from a file to make it persistent.\n",
       "    *   **Suggested Language:** **Python** (with a GUI library like Tkinter or PyQt), **JavaScript** (using HTML, CSS, and JavaScript for a web-based version), or **Java** (with Swing or JavaFX).\n",
       "\n",
       "    *   **Example Snippet (Python with Tkinter - very basic):**\n",
       "\n",
       "        ```python\n",
       "        import tkinter as tk\n",
       "\n",
       "        def add_task():\n",
       "            task = task_entry.get()\n",
       "            if task:\n",
       "                task_list.insert(tk.END, task)\n",
       "                task_entry.delete(0, tk.END)\n",
       "\n",
       "        window = tk.Tk()\n",
       "        window.title(\"To-Do List\")\n",
       "\n",
       "        task_entry = tk.Entry(window)\n",
       "        task_entry.pack()\n",
       "\n",
       "        add_button = tk.Button(window, text=\"Add Task\", command=add_task)\n",
       "        add_button.pack()\n",
       "\n",
       "        task_list = tk.Listbox(window)\n",
       "        task_list.pack()\n",
       "\n",
       "        window.mainloop()\n",
       "        ```\n",
       "\n",
       "4.  **Number Guessing Game with Hints:**\n",
       "\n",
       "    *   **Description:** The computer picks a random number, and the user tries to guess it. The program provides hints like \"too high\" or \"too low.\"  You can add features like limiting the number of guesses or keeping track of the user's score.\n",
       "    *   **Why it's good:**\n",
       "        *   **Random number generation:** Introduces the concept of using a random number generator.\n",
       "        *   **While loops and conditional statements:**  Essential for the game's logic (checking the guess, providing hints, controlling the number of attempts).\n",
       "        *   **User feedback:** You learn how to provide meaningful feedback to the user based on their input.\n",
       "    *   **Suggested Language:**  **Python**, **JavaScript**, **Java**, or **C++**.\n",
       "\n",
       "    *   **Example Snippet (Java):**\n",
       "\n",
       "        ```java\n",
       "        import java.util.Random;\n",
       "        import java.util.Scanner;\n",
       "\n",
       "        public class NumberGuessingGame {\n",
       "            public static void main(String[] args) {\n",
       "                Random random = new Random();\n",
       "                int numberToGuess = random.nextInt(100) + 1; // Number between 1 and 100\n",
       "                Scanner scanner = new Scanner(System.in);\n",
       "                int guess;\n",
       "                int attempts = 0;\n",
       "\n",
       "                System.out.println(\"I'm thinking of a number between 1 and 100.\");\n",
       "\n",
       "                do {\n",
       "                    System.out.print(\"Enter your guess: \");\n",
       "                    guess = scanner.nextInt();\n",
       "                    attempts++;\n",
       "\n",
       "                    if (guess < numberToGuess) {\n",
       "                        System.out.println(\"Too low!\");\n",
       "                    } else if (guess > numberToGuess) {\n",
       "                        System.out.println(\"Too high!\");\n",
       "                    } else {\n",
       "                        System.out.println(\"Congratulations! You guessed the number in \" + attempts + \" attempts.\");\n",
       "                    }\n",
       "                } while (guess != numberToGuess);\n",
       "\n",
       "                scanner.close();\n",
       "            }\n",
       "        }\n",
       "        ```\n",
       "\n",
       "**More Advanced Activities (Focus: Object-Oriented Programming, Algorithms, Data Structures)**\n",
       "\n",
       "5.  **Simple Blackjack Game:**\n",
       "\n",
       "    *   **Description:**  Implement a basic Blackjack game against the computer.  This involves dealing cards, calculating hand values, handling player and dealer turns, and determining the winner.\n",
       "    *   **Why it's good:**\n",
       "        *   **Object-oriented programming (OOP):**  A natural fit for OOP.  You can create classes for `Card`, `Deck`, `Player`, and `Game`.\n",
       "        *   **Arrays/Lists:**  Used to represent the deck of cards and the player's/dealer's hands.\n",
       "        *   **Game logic:**  Requires careful attention to the rules of Blackjack.\n",
       "    *   **Suggested Language:** **Java**, **C++**, or **Python** (if you want to practice OOP in Python).\n",
       "\n",
       "6.  **Basic Sorting Algorithm Visualizer:**\n",
       "\n",
       "    *   **Description:**  Implement a sorting algorithm (e.g., bubble sort, insertion sort, selection sort) and visualize its steps using a graphical user interface.  You'll display the array/list being sorted and highlight the elements being compared/swapped at each step.\n",
       "    *   **Why it's good:**\n",
       "        *   **Algorithms:**  Forces you to understand how sorting algorithms work internally.\n",
       "        *   **Data Structures:**  Uses arrays/lists.\n",
       "        *   **Visualization:**  Helps solidify your understanding of the algorithm and makes the learning process more engaging.  Also, it involves GUI programming.\n",
       "    *   **Suggested Language:**  **Python** (with Pygame or Tkinter), **Java** (with Swing or JavaFX), or **C#** (with WPF).  The choice depends on your comfort level with GUI programming.\n",
       "\n",
       "**How to Choose the Right Activity**\n",
       "\n",
       "*   **Start with your interests:** Pick a project that excites you! This will make the learning process much more enjoyable.\n",
       "*   **Consider your skill level:** Don't try to tackle a project that's too far beyond your current abilities. Start with something manageable and gradually increase the complexity.\n",
       "*   **Break it down:** Divide the project into smaller, more manageable tasks. This will make it less overwhelming and easier to track your progress.\n",
       "*   **Don't be afraid to ask for help:** If you get stuck, don't hesitate to ask for help from teachers, classmates, or online communities (like Stack Overflow or Reddit's r/learnprogramming).\n",
       "*   **Document your code:**  Add comments to your code to explain what each part does. This will help you understand your code later and make it easier for others to read.\n",
       "*   **Test your code:**  Test your code thoroughly to catch any errors or bugs.\n",
       "*   **Most importantly: HAVE FUN!**\n",
       "\n",
       "**Resources:**\n",
       "\n",
       "*   **Online Courses:** Codecademy, Khan Academy, Coursera, edX, freeCodeCamp.\n",
       "*   **Programming Communities:** Stack Overflow, Reddit's r/learnprogramming, Discord servers.\n",
       "*   **Books:** \"Automate the Boring Stuff with Python,\" \"Head First Java,\" \"Eloquent JavaScript.\"\n",
       "\n",
       "Good luck with your programming journey!  Let me know if you have any other questions.\n"
      ],
      "text/plain": [
       "<IPython.core.display.Markdown object>"
      ]
     },
     "metadata": {},
     "output_type": "display_data"
    }
   ],
   "source": [
    "prompt = \"I'm a high school student. Recommend me a programming activity to improve my skills.\"\n",
    "\n",
    "response = client.models.generate_content(model=MODEL_ID, contents=prompt)\n",
    "display(Markdown(response.text))"
   ]
  },
  {
   "cell_type": "markdown",
   "metadata": {
    "id": "iAmm9wPYc_1o"
   },
   "source": [
    "#### Classification tasks reduces output variability"
   ]
  },
  {
   "cell_type": "markdown",
   "metadata": {
    "id": "VvRpK_0GdCpf"
   },
   "source": [
    "The prompt below results in a choice and may be useful if you want the output to be easier to control."
   ]
  },
  {
   "cell_type": "code",
   "execution_count": 17,
   "metadata": {
    "id": "kYDKh0r2dAqo",
    "tags": []
   },
   "outputs": [
    {
     "data": {
      "text/markdown": [
       "Okay, as a high school student looking to learn a programming language, I highly recommend choosing **a) Python** or **b) JavaScript**. Here's a breakdown of why, and then how to choose between them:\n",
       "\n",
       "**Why Python and JavaScript are Excellent Choices for You:**\n",
       "\n",
       "*   **Beginner-Friendly:** Both are designed to be relatively easy to pick up, especially compared to languages like Fortran. They have clear syntax and lots of readily available learning resources.\n",
       "*   **Versatility:**  Both languages are incredibly versatile and used in a wide variety of fields.  This means you'll be able to apply your knowledge to many different types of projects.\n",
       "*   **Strong Community and Resources:** Massive online communities mean you'll find tons of tutorials, documentation, libraries, and support when you get stuck (which everyone does!).\n",
       "*   **Relevance to Your Future:** Understanding either language will be valuable regardless of whether you pursue a career in computer science. They're useful for data analysis, automation, web development, and more.\n",
       "*   **Fun and Engaging Projects:** You can build fun and engaging projects quickly, which keeps you motivated and helps you learn faster.\n",
       "\n",
       "**Why Not Fortran (at least not right now):**\n",
       "\n",
       "*   **Specialized Use:** Fortran is primarily used in scientific and engineering computing. While it's powerful for those fields, it's much more niche than Python or JavaScript.\n",
       "*   **Steeper Learning Curve:** Fortran has a more complex syntax and older programming paradigms that can be challenging for beginners.\n",
       "*   **Limited Applicability Outside Specific Fields:** The skills you learn with Fortran might not be as easily transferable to other areas of programming or technology.\n",
       "*   **Fewer Learning Resources:** While resources exist, they are not as abundant or geared towards beginners as those for Python or JavaScript.\n",
       "\n",
       "**How to Choose Between Python and JavaScript:**\n",
       "\n",
       "This depends on what *interests* you most. Ask yourself these questions:\n",
       "\n",
       "*   **Are you interested in building websites and web applications (things you see in a web browser)?** If so, **JavaScript** is the clear winner. It's *the* language of the web front-end (what the user interacts with). You can also use JavaScript for the backend (server side) with Node.js, which is very popular.\n",
       "\n",
       "*   **Are you interested in data analysis, machine learning, scripting, automation, or general-purpose programming?** Then **Python** is a great choice. It's widely used in these fields because of its extensive libraries (collections of pre-written code) like NumPy, Pandas, and Scikit-learn.\n",
       "\n",
       "*   **Are you unsure?** In that case, I'd *slightly* lean towards **Python** as a starting point. It's generally considered to have a cleaner and more readable syntax, making it a bit easier to grasp the fundamentals of programming. It also gives you a broad base from which to explore other areas later.\n",
       "\n",
       "**Here's a more detailed comparison to help you decide:**\n",
       "\n",
       "| Feature        | Python                                     | JavaScript                                 |\n",
       "|----------------|--------------------------------------------|---------------------------------------------|\n",
       "| Primary Use    | Data science, scripting, backend web dev   | Web development (front-end and back-end), interactive websites |\n",
       "| Syntax         | Generally cleaner and more readable       | Can be a little more verbose, some quirks  |\n",
       "| Libraries      | Extensive for data analysis, ML, etc.     | Excellent for web development, UI/UX         |\n",
       "| Learning Curve | Generally considered slightly easier      |  Can be a bit steeper initially due to the web environment |\n",
       "| Web Focus      | Can be used for backend (e.g., Django, Flask) |  Dominant language of the web front-end    |\n",
       "| Career Paths   | Data scientist, software engineer, etc.   | Web developer, front-end engineer, etc.     |\n",
       "| Examples       | Building a data analysis script           | Creating interactive elements on a website |\n",
       "\n",
       "**In summary:**\n",
       "\n",
       "*   **Python:** Great for general-purpose programming, data analysis, scripting, and backend web development.\n",
       "*   **JavaScript:** Essential for web development (front-end and back-end) and creating interactive web experiences.\n",
       "*   **Fortran:** Niche language for scientific and engineering computing (not recommended as a starting point).\n",
       "\n",
       "**My Recommendation:**\n",
       "\n",
       "1.  **Start with Python or JavaScript based on your interests (as outlined above).**\n",
       "2.  **Follow a good online course or tutorial.**  (Codecademy, freeCodeCamp, Coursera, Udemy, edX are all great resources).\n",
       "3.  **Build small projects to practice what you learn.**  This is the most important part!\n",
       "4.  **Don't be afraid to ask for help online if you get stuck.**\n",
       "\n",
       "Good luck with your programming journey!  Let me know if you have any more questions.\n"
      ],
      "text/plain": [
       "<IPython.core.display.Markdown object>"
      ]
     },
     "metadata": {},
     "output_type": "display_data"
    }
   ],
   "source": [
    "prompt = \"\"\"I'm a high school student. Which of these activities do you suggest and why:\n",
    "a) learn Python\n",
    "b) learn JavaScript\n",
    "c) learn Fortran\n",
    "\"\"\"\n",
    "\n",
    "response = client.models.generate_content(model=MODEL_ID, contents=prompt)\n",
    "display(Markdown(response.text))"
   ]
  },
  {
   "cell_type": "markdown",
   "metadata": {
    "id": "iTd60b1GdIsx"
   },
   "source": [
    "### Improve response quality by including examples"
   ]
  },
  {
   "cell_type": "markdown",
   "metadata": {
    "id": "yJi44NejdJYE"
   },
   "source": [
    "Another way to improve response quality is to add examples in your prompt. The LLM learns in-context from the examples on how to respond. Typically, one to five examples (shots) are enough to improve the quality of responses. Including too many examples can cause the model to over-fit the data and reduce the quality of responses.\n",
    "\n",
    "Similar to classical model training, the quality and distribution of the examples is very important. Pick examples that are representative of the scenarios that you need the model to learn, and keep the distribution of the examples (e.g. number of examples per class in the case of classification) aligned with your actual distribution."
   ]
  },
  {
   "cell_type": "markdown",
   "metadata": {
    "id": "sMbLginWdOKs"
   },
   "source": [
    "#### Zero-shot prompt"
   ]
  },
  {
   "cell_type": "markdown",
   "metadata": {
    "id": "Crh2Loi2dQ0v"
   },
   "source": [
    "Below is an example of zero-shot prompting, where you don't provide any examples to the LLM within the prompt itself."
   ]
  },
  {
   "cell_type": "code",
   "execution_count": 18,
   "metadata": {
    "id": "-7myRc-SdTQ4",
    "tags": []
   },
   "outputs": [
    {
     "data": {
      "text/markdown": [
       "Sentiment: Positive\n"
      ],
      "text/plain": [
       "<IPython.core.display.Markdown object>"
      ]
     },
     "metadata": {},
     "output_type": "display_data"
    }
   ],
   "source": [
    "prompt = \"\"\"Decide whether a Tweet's sentiment is positive, neutral, or negative.\n",
    "\n",
    "Tweet: I loved the new YouTube video you made!\n",
    "Sentiment:\n",
    "\"\"\"\n",
    "\n",
    "response = client.models.generate_content(model=MODEL_ID, contents=prompt)\n",
    "display(Markdown(response.text))"
   ]
  },
  {
   "cell_type": "markdown",
   "metadata": {
    "id": "ucRtPn9SdL64"
   },
   "source": [
    "#### One-shot prompt"
   ]
  },
  {
   "cell_type": "markdown",
   "metadata": {
    "id": "rs0gQH2vdYBi"
   },
   "source": [
    "Below is an example of one-shot prompting, where you provide one example to the LLM within the prompt to give some guidance on what type of response you want."
   ]
  },
  {
   "cell_type": "code",
   "execution_count": 19,
   "metadata": {
    "id": "iEq-KxGYdaT5",
    "tags": []
   },
   "outputs": [
    {
     "data": {
      "text/markdown": [
       "Sentiment: negative\n"
      ],
      "text/plain": [
       "<IPython.core.display.Markdown object>"
      ]
     },
     "metadata": {},
     "output_type": "display_data"
    }
   ],
   "source": [
    "prompt = \"\"\"Decide whether a Tweet's sentiment is positive, neutral, or negative.\n",
    "\n",
    "Tweet: I loved the new YouTube video you made!\n",
    "Sentiment: positive\n",
    "\n",
    "Tweet: That was awful. Super boring 😠\n",
    "Sentiment:\n",
    "\"\"\"\n",
    "\n",
    "response = client.models.generate_content(model=MODEL_ID, contents=prompt)\n",
    "display(Markdown(response.text))"
   ]
  },
  {
   "cell_type": "markdown",
   "metadata": {
    "id": "JnKLjJzmdfL_"
   },
   "source": [
    "#### Few-shot prompt"
   ]
  },
  {
   "cell_type": "markdown",
   "metadata": {
    "id": "6Zv-9F5OdgI_"
   },
   "source": [
    "Below is an example of few-shot prompting, where you provide a few examples to the LLM within the prompt to give some guidance on what type of response you want."
   ]
  },
  {
   "cell_type": "code",
   "execution_count": 20,
   "metadata": {
    "id": "u37P9tG4dk9S",
    "tags": []
   },
   "outputs": [
    {
     "data": {
      "text/markdown": [
       "Sentiment: positive\n"
      ],
      "text/plain": [
       "<IPython.core.display.Markdown object>"
      ]
     },
     "metadata": {},
     "output_type": "display_data"
    }
   ],
   "source": [
    "prompt = \"\"\"Decide whether a Tweet's sentiment is positive, neutral, or negative.\n",
    "\n",
    "Tweet: I loved the new YouTube video you made!\n",
    "Sentiment: positive\n",
    "\n",
    "Tweet: That was awful. Super boring 😠\n",
    "Sentiment: negative\n",
    "\n",
    "Tweet: Something surprised me about this video - it was actually original. It was not the same old recycled stuff that I always see. Watch it - you will not regret it.\n",
    "Sentiment:\n",
    "\"\"\"\n",
    "\n",
    "response = client.models.generate_content(model=MODEL_ID, contents=prompt)\n",
    "display(Markdown(response.text))"
   ]
  },
  {
   "cell_type": "markdown",
   "metadata": {
    "id": "wDMD3xb2dvX6"
   },
   "source": [
    "#### Choosing between zero-shot, one-shot, few-shot prompting methods"
   ]
  },
  {
   "cell_type": "markdown",
   "metadata": {
    "id": "s92W0YpNdxJp"
   },
   "source": [
    "Which prompt technique to use will solely depends on your goal. The zero-shot prompts are more open-ended and can give you creative answers, while one-shot and few-shot prompts teach the model how to behave so you can get more predictable answers that are consistent with the examples provided."
   ]
  },
  {
   "cell_type": "code",
   "execution_count": null,
   "metadata": {},
   "outputs": [],
   "source": []
  }
 ],
 "metadata": {
  "colab": {
   "name": "intro_prompt_design.ipynb",
   "toc_visible": true
  },
  "environment": {
   "kernel": "conda-base-py",
   "name": "workbench-notebooks.m129",
   "type": "gcloud",
   "uri": "us-docker.pkg.dev/deeplearning-platform-release/gcr.io/workbench-notebooks:m129"
  },
  "kernelspec": {
   "display_name": "Python 3 (ipykernel) (Local) (Local)",
   "language": "python",
   "name": "conda-base-py"
  },
  "language_info": {
   "codemirror_mode": {
    "name": "ipython",
    "version": 3
   },
   "file_extension": ".py",
   "mimetype": "text/x-python",
   "name": "python",
   "nbconvert_exporter": "python",
   "pygments_lexer": "ipython3",
   "version": "3.10.16"
  }
 },
 "nbformat": 4,
 "nbformat_minor": 4
}
